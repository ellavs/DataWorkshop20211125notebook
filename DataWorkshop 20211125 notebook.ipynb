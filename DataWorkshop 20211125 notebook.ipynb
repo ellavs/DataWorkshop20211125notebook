{
 "cells": [
  {
   "cell_type": "markdown",
   "id": "private-popularity",
   "metadata": {},
   "source": [
    "# 🇹🇼 DWthon 4.0 - прогнозирование банкротства фирм в Тайване (на реальных данных) 🇹🇼\n",
    "\n",
    "\n",
    "Начало будет похожим, как в предыдущих стартерах -  просто прокликаем."
   ]
  },
  {
   "cell_type": "markdown",
   "id": "expired-pennsylvania",
   "metadata": {},
   "source": [
    "## 📥 Импортируем нужные библиотеки"
   ]
  },
  {
   "cell_type": "code",
   "execution_count": 2,
   "id": "faab720f",
   "metadata": {},
   "outputs": [
    {
     "name": "stdout",
     "output_type": "stream",
     "text": [
      "Collecting catboost\n",
      "  Downloading catboost-1.0.3-cp38-none-win_amd64.whl (77.4 MB)\n",
      "Requirement already satisfied: six in d:\\wa\\anaconda3\\lib\\site-packages (from catboost) (1.15.0)\n",
      "Collecting graphviz\n",
      "  Using cached graphviz-0.18.2-py3-none-any.whl (39 kB)\n",
      "Requirement already satisfied: numpy>=1.16.0 in d:\\wa\\anaconda3\\lib\\site-packages (from catboost) (1.20.1)\n",
      "Collecting plotly\n",
      "  Using cached plotly-5.4.0-py2.py3-none-any.whl (25.3 MB)\n",
      "Requirement already satisfied: pandas>=0.24.0 in d:\\wa\\anaconda3\\lib\\site-packages (from catboost) (1.2.4)\n",
      "Requirement already satisfied: matplotlib in d:\\wa\\anaconda3\\lib\\site-packages (from catboost) (3.3.4)\n",
      "Requirement already satisfied: scipy in d:\\wa\\anaconda3\\lib\\site-packages (from catboost) (1.6.2)\n",
      "Requirement already satisfied: pytz>=2017.3 in d:\\wa\\anaconda3\\lib\\site-packages (from pandas>=0.24.0->catboost) (2021.1)\n",
      "Requirement already satisfied: python-dateutil>=2.7.3 in d:\\wa\\anaconda3\\lib\\site-packages (from pandas>=0.24.0->catboost) (2.8.1)\n",
      "Requirement already satisfied: pyparsing!=2.0.4,!=2.1.2,!=2.1.6,>=2.0.3 in d:\\wa\\anaconda3\\lib\\site-packages (from matplotlib->catboost) (2.4.7)\n",
      "Requirement already satisfied: cycler>=0.10 in d:\\wa\\anaconda3\\lib\\site-packages (from matplotlib->catboost) (0.10.0)\n",
      "Requirement already satisfied: kiwisolver>=1.0.1 in d:\\wa\\anaconda3\\lib\\site-packages (from matplotlib->catboost) (1.3.1)\n",
      "Requirement already satisfied: pillow>=6.2.0 in d:\\wa\\anaconda3\\lib\\site-packages (from matplotlib->catboost) (8.2.0)\n",
      "Collecting tenacity>=6.2.0\n",
      "  Using cached tenacity-8.0.1-py3-none-any.whl (24 kB)\n",
      "Installing collected packages: tenacity, plotly, graphviz, catboost\n",
      "Successfully installed catboost-1.0.3 graphviz-0.18.2 plotly-5.4.0 tenacity-8.0.1\n"
     ]
    }
   ],
   "source": [
    "!pip install catboost"
   ]
  },
  {
   "cell_type": "code",
   "execution_count": 8,
   "id": "28f076a2",
   "metadata": {},
   "outputs": [
    {
     "name": "stdout",
     "output_type": "stream",
     "text": [
      "Collecting xgboost\n",
      "  Downloading xgboost-1.5.1-py3-none-win_amd64.whl (106.6 MB)\n",
      "Requirement already satisfied: scipy in d:\\wa\\anaconda3\\lib\\site-packages (from xgboost) (1.6.2)\n",
      "Requirement already satisfied: numpy in d:\\wa\\anaconda3\\lib\\site-packages (from xgboost) (1.20.1)\n",
      "Installing collected packages: xgboost\n",
      "Successfully installed xgboost-1.5.1\n"
     ]
    }
   ],
   "source": [
    "!pip install xgboost"
   ]
  },
  {
   "cell_type": "code",
   "execution_count": 10,
   "id": "044f72c9",
   "metadata": {},
   "outputs": [
    {
     "name": "stdout",
     "output_type": "stream",
     "text": [
      "Collecting lightgbm\n",
      "  Using cached lightgbm-3.3.1-py3-none-win_amd64.whl (1.0 MB)\n",
      "Requirement already satisfied: wheel in d:\\wa\\anaconda3\\lib\\site-packages (from lightgbm) (0.36.2)\n",
      "Requirement already satisfied: scikit-learn!=0.22.0 in d:\\wa\\anaconda3\\lib\\site-packages (from lightgbm) (0.24.1)\n",
      "Requirement already satisfied: numpy in d:\\wa\\anaconda3\\lib\\site-packages (from lightgbm) (1.20.1)\n",
      "Requirement already satisfied: scipy in d:\\wa\\anaconda3\\lib\\site-packages (from lightgbm) (1.6.2)\n",
      "Requirement already satisfied: threadpoolctl>=2.0.0 in d:\\wa\\anaconda3\\lib\\site-packages (from scikit-learn!=0.22.0->lightgbm) (2.1.0)\n",
      "Requirement already satisfied: joblib>=0.11 in d:\\wa\\anaconda3\\lib\\site-packages (from scikit-learn!=0.22.0->lightgbm) (1.0.1)\n",
      "Installing collected packages: lightgbm\n",
      "Successfully installed lightgbm-3.3.1\n"
     ]
    }
   ],
   "source": [
    "!pip install lightgbm"
   ]
  },
  {
   "cell_type": "code",
   "execution_count": 12,
   "id": "6505aac1",
   "metadata": {},
   "outputs": [
    {
     "name": "stdout",
     "output_type": "stream",
     "text": [
      "Collecting eli5\n",
      "  Using cached eli5-0.11.0-py2.py3-none-any.whl (106 kB)\n",
      "Requirement already satisfied: scipy in d:\\wa\\anaconda3\\lib\\site-packages (from eli5) (1.6.2)\n",
      "Collecting tabulate>=0.7.7\n",
      "  Using cached tabulate-0.8.9-py3-none-any.whl (25 kB)\n",
      "Requirement already satisfied: graphviz in d:\\wa\\anaconda3\\lib\\site-packages (from eli5) (0.18.2)\n",
      "Requirement already satisfied: attrs>16.0.0 in d:\\wa\\anaconda3\\lib\\site-packages (from eli5) (20.3.0)\n",
      "Requirement already satisfied: six in d:\\wa\\anaconda3\\lib\\site-packages (from eli5) (1.15.0)\n",
      "Requirement already satisfied: numpy>=1.9.0 in d:\\wa\\anaconda3\\lib\\site-packages (from eli5) (1.20.1)\n",
      "Requirement already satisfied: jinja2 in d:\\wa\\anaconda3\\lib\\site-packages (from eli5) (2.11.3)\n",
      "Requirement already satisfied: scikit-learn>=0.20 in d:\\wa\\anaconda3\\lib\\site-packages (from eli5) (0.24.1)\n",
      "Requirement already satisfied: threadpoolctl>=2.0.0 in d:\\wa\\anaconda3\\lib\\site-packages (from scikit-learn>=0.20->eli5) (2.1.0)\n",
      "Requirement already satisfied: joblib>=0.11 in d:\\wa\\anaconda3\\lib\\site-packages (from scikit-learn>=0.20->eli5) (1.0.1)\n",
      "Requirement already satisfied: MarkupSafe>=0.23 in d:\\wa\\anaconda3\\lib\\site-packages (from jinja2->eli5) (1.1.1)\n",
      "Installing collected packages: tabulate, eli5\n",
      "Successfully installed eli5-0.11.0 tabulate-0.8.9\n"
     ]
    }
   ],
   "source": [
    "!pip install eli5"
   ]
  },
  {
   "cell_type": "code",
   "execution_count": 14,
   "id": "6778ef1c",
   "metadata": {},
   "outputs": [
    {
     "name": "stderr",
     "output_type": "stream",
     "text": [
      "ERROR: Could not find a version that satisfies the requirement scikitplot\n",
      "ERROR: No matching distribution found for scikitplot\n"
     ]
    }
   ],
   "source": [
    "!pip install scikitplot"
   ]
  },
  {
   "cell_type": "code",
   "execution_count": 15,
   "id": "supposed-tuesday",
   "metadata": {},
   "outputs": [],
   "source": [
    "import pandas as pd\n",
    "import numpy as np\n",
    "np.random.seed(0)\n",
    "\n",
    "import catboost as ctb\n",
    "import xgboost as xgb\n",
    "import lightgbm as lgb\n",
    "from sklearn.metrics import f1_score, classification_report\n",
    "\n",
    "\n",
    "from sklearn.model_selection import StratifiedKFold, cross_val_score\n",
    "import eli5\n",
    "from eli5.sklearn import PermutationImportance\n",
    "\n",
    "#import scikitplot as skplt\n",
    "\n",
    "import matplotlib.pyplot as plt"
   ]
  },
  {
   "cell_type": "markdown",
   "id": "strong-eclipse",
   "metadata": {},
   "source": [
    "## 🗃️  Загружаем данные"
   ]
  },
  {
   "cell_type": "code",
   "execution_count": 30,
   "id": "liberal-empire",
   "metadata": {},
   "outputs": [
    {
     "data": {
      "text/plain": [
       "((3409, 97), (3410, 96), (6819, 97))"
      ]
     },
     "execution_count": 30,
     "metadata": {},
     "output_type": "execute_result"
    }
   ],
   "source": [
    "df_train = pd.read_hdf(\"train_taiwan.h5\")\n",
    "df_test = pd.read_hdf(\"test_taiwan.h5\")\n",
    "\n",
    "df_all = pd.concat([df_train, df_test]).reset_index(drop=True)\n",
    "df_all.columns = [x.replace(\" \", \"_\").lower() for x in df_all.columns]\n",
    "\n",
    "df_train.shape, df_test.shape, df_all.shape"
   ]
  },
  {
   "cell_type": "code",
   "execution_count": 62,
   "id": "04fa6003",
   "metadata": {},
   "outputs": [
    {
     "data": {
      "text/plain": [
       "<AxesSubplot:xlabel='target', ylabel='borrowing_dependency'>"
      ]
     },
     "execution_count": 62,
     "metadata": {},
     "output_type": "execute_result"
    },
    {
     "data": {
      "image/png": "[encoded data removed]",
      "text/plain": [
       "<Figure size 432x288 with 1 Axes>"
      ]
     },
     "metadata": {
      "needs_background": "light"
     },
     "output_type": "display_data"
    }
   ],
   "source": [
    "# анализ выбросов\n",
    "import seaborn as sns\n",
    "df_tmp = df_all[df_all.target.notnull()][[\"borrowing_dependency\", \"target\"]]\n",
    "sns.scatterplot(x = 'target', y = 'borrowing_dependency', data = df_tmp, \n",
    "                hue = 'target', palette ='Spectral')"
   ]
  },
  {
   "cell_type": "code",
   "execution_count": 46,
   "id": "9b9dc1d6",
   "metadata": {},
   "outputs": [
    {
     "data": {
      "text/plain": [
       "<AxesSubplot:>"
      ]
     },
     "execution_count": 46,
     "metadata": {},
     "output_type": "execute_result"
    },
    {
     "data": {
      "image/png": "[encoded data removed]",
      "text/plain": [
       "<Figure size 1080x720 with 1 Axes>"
      ]
     },
     "metadata": {
      "needs_background": "light"
     },
     "output_type": "display_data"
    }
   ],
   "source": [
    "df_all[['borrowing_dependency','net_income_to_total_assets',\\\n",
    "        'interest-bearing_debt_interest_rate','continuous_profit_rate_(after_tax)']]\\\n",
    "        .boxplot(figsize = (15, 10))"
   ]
  },
  {
   "cell_type": "markdown",
   "id": "protected-credits",
   "metadata": {},
   "source": [
    "## 🤖 Функция-помощник\n",
    "\n",
    "Теперь мы больше не будем использовать `cross_val_score`, а сделаем свою собственную - немного больше кода, но больше гибкости, что в данном случае необходимо."
   ]
  },
  {
   "cell_type": "code",
   "execution_count": 24,
   "id": "ordinary-anime",
   "metadata": {},
   "outputs": [],
   "source": [
    "def make_experiment(model, feats=None, threshold=0.5, n_splits=3, black_list=[\"target\"], show_feats=False, show_cr=False, show_cm=False, show_pr=False, show_lc=False):\n",
    "    if feats is None:\n",
    "        num_feats = df_all.select_dtypes(\"number\").columns\n",
    "        feats = [x for x in num_feats if x not in black_list]\n",
    "\n",
    "    if show_feats:\n",
    "        print(feats)\n",
    "        \n",
    "    df_train = df_all[ df_all[\"target\"].notnull() ]\n",
    "    X_train = df_train[feats].values\n",
    "    y_train = df_train[\"target\"].values\n",
    "\n",
    "    scores = []\n",
    "    cv=StratifiedKFold(n_splits=n_splits, shuffle=True, random_state=0)\n",
    "    for train_idx, test_idx in cv.split(X_train, y_train):    \n",
    "\n",
    "        model.fit(X_train[train_idx], y_train[train_idx])\n",
    "\n",
    "        y_probas = model.predict_proba(X_train[test_idx])\n",
    "        y_pred = (y_probas[:,1] > threshold).astype(np.int)\n",
    "        #y_pred = model.predict(X_train[test_idx])\n",
    "\n",
    "        if show_cr:\n",
    "            print(classification_report(y_train[test_idx], y_pred))\n",
    "        \n",
    "        if show_cm:\n",
    "            skplt.metrics.plot_confusion_matrix(y_train[test_idx], y_pred)#normalize=True\n",
    "            \n",
    "        if show_pr:\n",
    "            skplt.metrics.plot_precision_recall(y_train[test_idx], y_probas)\n",
    "\n",
    "        score = f1_score(y_train[test_idx], y_pred)\n",
    "        scores.append(score)\n",
    "\n",
    "    \n",
    "    \n",
    "    print(\"Score: \", np.mean(scores), np.std(scores))\n",
    "    \n",
    "    skplt.estimators.plot_learning_curve(model, X_train, y_train, cv=cv, scoring=\"f1\", random_state=0)\n",
    "    \n",
    "    return eli5.show_weights(model, feature_names=feats, top=50)\n",
    "    \n",
    "    \n",
    "def my_hist(df_all, feat_name, left_perc=1, right_perc=99):\n",
    "    min_value = np.percentile( df_all[feat_name], 1)\n",
    "    max_value = np.percentile( df_all[feat_name], 99)\n",
    "\n",
    "    (\n",
    "        df_all[ \n",
    "            (df_all[feat_name] > min_value) &\n",
    "            (df_all[feat_name] < max_value)\n",
    "        ][feat_name]\n",
    "    ).hist(bins=100)\n",
    "    plt.title(\"{}\\n, left_perc={}, right_perc={}\".format(feat_name, left_perc, right_perc))\n",
    "    plt.show()\n",
    "    \n",
    "\n",
    "def outliners_to_mean(df, features, postfix = 'mn'):\n",
    "    df = df.copy()\n",
    "    features_mn = []\n",
    "    for fName in features:\n",
    "        mn = df[fName].mean()\n",
    "        new_clm = fName + '_' + postfix\n",
    "        features_mn.append(new_clm)\n",
    "        df[new_clm] = df[fName].copy()\n",
    "        p99 = np.percentile(df[new_clm], 99)\n",
    "        p1 = np.percentile(df[new_clm], 1)\n",
    "        df.loc[df[new_clm] > p99, new_clm] = mn\n",
    "        df.loc[df[new_clm] < p1, new_clm] = mn\n",
    "    return df, features_mn \n",
    "\n",
    "def save_result(filename, model, threshold=0.1):\n",
    "\n",
    "    num_feats = df_all.select_dtypes(\"number\").columns\n",
    "    feats = [x for x in num_feats if x not in [\"target\", \"id\"]]\n",
    "    df_all_r, feats_mn = outliners_to_mean(df_all, feats)\n",
    "    \n",
    "    df_train = df_all_r[ df_all_r[\"target\"].notnull() ]\n",
    "    df_test = df_all_r[ df_all_r[\"target\"].isnull() ].copy()\n",
    "    \n",
    "    model.fit(df_train[feats_mn].values, df_train[\"target\"].values)\n",
    "\n",
    "    df_test[\"target\"] = (model.predict_proba(df_test[feats_mn].values)[:,1] > 0.1).astype(np.int32)\n",
    "    output_file = \"./{}\".format(filename)\n",
    "    df_test[ [\"id\", \"target\"] ].to_csv(output_file, index=False)\n",
    "    print(\"Saved: \", output_file)"
   ]
  },
  {
   "cell_type": "markdown",
   "id": "competitive-difference",
   "metadata": {},
   "source": [
    "## 🧐 Экспериментируем"
   ]
  },
  {
   "cell_type": "code",
   "execution_count": null,
   "id": "voluntary-ontario",
   "metadata": {},
   "outputs": [],
   "source": [
    "model = xgb.XGBClassifier(max_depth=5, n_estimators=100, random_state=0)\n",
    "make_experiment(model, threshold=0.1, show_cm=True)"
   ]
  },
  {
   "cell_type": "markdown",
   "id": "acoustic-pipeline",
   "metadata": {},
   "source": [
    "## Имеем результат\n",
    "`Score: 0.4326876826876827 0.02803963590288893`.\n",
    "\n",
    "\n",
    "Результат, выглядит немного иначе, чем раньше (хотя модель и признаки те же). Почему такая разница?\n",
    "\n",
    "Я установил валидацию по-другому, чтобы сделать ее более \"случайной\", и результаты в каждой итерации повторялись.\n",
    "```\n",
    "cv=StratifiedKFold(n_splits=n_splits, shuffle=True, random_state=0)\n",
    "```\n",
    "\n",
    "Теперь, как видишь в `confusion_matrix`, результаты всех трех итераций более схожи.\n",
    "\n",
    "\n",
    "### Давай подумаем, что еще мы можем сделать?\n",
    "\n",
    "У нас есть как минимум несколько путей:\n",
    "- поиск лучших признаков (англ. `feature engineering`)\n",
    "- более сложная модель\n",
    "- объединение нескольких моделей\n",
    "- танцы с бубном (хотя это не всегда помогает 😂)"
   ]
  },
  {
   "cell_type": "code",
   "execution_count": null,
   "id": "adapted-encyclopedia",
   "metadata": {},
   "outputs": [],
   "source": [
    "model = ctb.CatBoostClassifier(max_depth=5, n_estimators=100, verbose=0)\n",
    "make_experiment(model, threshold=0.1, show_cm=True)"
   ]
  },
  {
   "cell_type": "code",
   "execution_count": null,
   "id": "known-entertainment",
   "metadata": {},
   "outputs": [],
   "source": [
    "model = lgb.LGBMClassifier(max_depth=5, n_estimators=100)\n",
    "make_experiment(model, threshold=0.1, show_cm=True)"
   ]
  },
  {
   "cell_type": "markdown",
   "id": "center-hunger",
   "metadata": {},
   "source": [
    "Обрати внимание, что каждая модель уделяет внимание немного разным признакам, также по-разному ведет себя `confusion matrix`.\n",
    "\n",
    "\n",
    "\n",
    "## 🌎 Submit\n",
    "\n",
    "Давай запишем результаты `ctb` и `lgb`."
   ]
  },
  {
   "cell_type": "code",
   "execution_count": 25,
   "id": "continuing-colleague",
   "metadata": {},
   "outputs": [
    {
     "name": "stdout",
     "output_type": "stream",
     "text": [
      "Saved:  ./lgb_threshold_0.1.csv\n"
     ]
    }
   ],
   "source": [
    "model = lgb.LGBMClassifier(max_depth=5, n_estimators=100)\n",
    "save_result(\"lgb_threshold_0.1.csv\", model)"
   ]
  },
  {
   "cell_type": "code",
   "execution_count": 26,
   "id": "ceramic-compression",
   "metadata": {},
   "outputs": [
    {
     "name": "stdout",
     "output_type": "stream",
     "text": [
      "Saved:  ./ctb_threshold_0.1.csv\n"
     ]
    }
   ],
   "source": [
    "model = ctb.CatBoostClassifier(max_depth=5, n_estimators=100, verbose=0)\n",
    "save_result(\"ctb_threshold_0.1.csv\", model)"
   ]
  },
  {
   "cell_type": "markdown",
   "id": "governmental-flashing",
   "metadata": {},
   "source": [
    "## 🤝 Мы объединяем модели\n",
    "\n",
    "Теперь мы можем попытаться объединить модели - на пркатике мы объединяем результаты этих моделей."
   ]
  },
  {
   "cell_type": "code",
   "execution_count": null,
   "id": "violent-communist",
   "metadata": {},
   "outputs": [],
   "source": [
    "xgb_output = pd.read_csv(\"../output/xgb_threshold_0.1.csv\")\n",
    "lgb_output = pd.read_csv(\"../output/lgb_threshold_0.1.csv\")\n",
    "ctb_output = pd.read_csv(\"../output/ctb_threshold_0.1.csv\")\n",
    "\n",
    "(0.33*xgb_output[\"target\"] + 0.34*lgb_output[\"target\"] + 0.33*ctb_output[\"target\"]).value_counts()"
   ]
  },
  {
   "cell_type": "markdown",
   "id": "external-narrow",
   "metadata": {},
   "source": [
    "Как видишь, у нас есть кое-что «посередине»\n",
    "\n",
    "```\n",
    "0.33      55\n",
    "0.67      31\n",
    "0.34      25\n",
    "0.66      20\n",
    "```\n",
    "\n",
    "К какому классу отнести - решать Тебе, пока что я взял достаточно стандартные веса (0.33 и 0.34 для одной модели) и если они больше 0.2, то даем 1. Поймать 1 выгоднее, чем потерять 🤔. Но Ты все равно можешь немного покомбинировать здесь."
   ]
  },
  {
   "cell_type": "code",
   "execution_count": null,
   "id": "intimate-challenge",
   "metadata": {},
   "outputs": [],
   "source": [
    "output = pd.DataFrame()\n",
    "output[\"id\"] = xgb_output[\"id\"]\n",
    "output[\"target\"] = ((0.33*xgb_output[\"target\"] + 0.34*lgb_output[\"target\"] + 0.33*ctb_output[\"target\"]) > 0.2).astype(np.int)\n",
    "\n",
    "output.to_csv(\"../output/0.33xgb_0.34lgb_0.33ctb.csv\", index=False)"
   ]
  },
  {
   "cell_type": "markdown",
   "id": "infinite-douglas",
   "metadata": {},
   "source": []
  },
  {
   "cell_type": "code",
   "execution_count": null,
   "id": "mexican-treasure",
   "metadata": {},
   "outputs": [],
   "source": []
  },
  {
   "cell_type": "markdown",
   "id": "genetic-cocktail",
   "metadata": {},
   "source": [
    "## ☝️ Остерегайся `overfitting`.\n",
    "\n",
    "В несбалансированных данных справиться с переобучением сложнее, поэтому тщательно настраивай свою модель, а также можно ожидать `mixer/overfitting` в Твоем Kaggle, что означает, что `Public LeaderBoard` будет отличаться от `Private Leaderboard`.\n"
   ]
  },
  {
   "cell_type": "code",
   "execution_count": null,
   "id": "connected-pressure",
   "metadata": {},
   "outputs": [],
   "source": []
  },
  {
   "cell_type": "markdown",
   "id": "instructional-organ",
   "metadata": {},
   "source": [
    "## 🤝🗣️ Совместное обсуждение и обмен опытом 💬\n",
    "Соревнование соревнованием, но во всем этом есть нечто большее, чем победа...\n",
    "\n",
    "👉 *сотрудничество, общение, творческое и критическое мышление* - это ценности и навыки, о которых стоит заботиться\n",
    "\n",
    "Прежде всего, речь идет о том, чтобы как можно больше учиться и поддерживать друг друга. Помни о здоровой конкуренции и взаимной помощи\n",
    "🤝 \n",
    "\n",
    "Для проведения конкурса в Kaggle мы создали отдельные каналы:\n",
    "- [#dwthon_general](https://dataworkshop-ru.slack.com/archives/C02NRMNLE2D) - **общий канал**\n",
    "- [#dwthon_ideas](https://dataworkshop-ru.slack.com/archives/C02N6CBK1CN) - **канал, где можно делиться мыслями и идеями**\n",
    "- [#dwthon_questions](https://dataworkshop-ru.slack.com/archives/C02N6C69G3Y) - **канал, где можно задавать вопросы**"
   ]
  },
  {
   "cell_type": "markdown",
   "id": "potential-enforcement",
   "metadata": {},
   "source": [
    "## 👉 Задания для тебя: \n",
    "\n",
    "1. Сделай starter2\n",
    "2. Подумай надновыми признаками\n",
    "3. Сделай эксперимент \n",
    "4. Поделись своими лучшими решениями в Kaggle\n",
    "\n",
    "## 👉 Следующий шаг... \n",
    "\n",
    "### Подведение итогов конкурса 🥳"
   ]
  },
  {
   "cell_type": "markdown",
   "id": "digital-afternoon",
   "metadata": {},
   "source": [
    "## `DW Club`, вот некоторые факты о нем:\n",
    "- Участники `DW Club` имеют доступ к материалам 24/7\n",
    "- Этот интенсив - еще один материал для `DW Club`, и с каждым месяцем их число будет только расти.\n",
    "- Членам `DW Club` гарантированы более выгодные условия приобретения платных курсов и т.д.\n",
    "\n",
    "Узнай больше и посмотри, что нас ждет [перейдя по ссылке](https://dataworkshop.ru/data-science/dw-club)."
   ]
  },
  {
   "cell_type": "code",
   "execution_count": null,
   "id": "whole-recommendation",
   "metadata": {},
   "outputs": [],
   "source": []
  }
 ],
 "metadata": {
  "kernelspec": {
   "display_name": "Python 3",
   "language": "python",
   "name": "python3"
  },
  "language_info": {
   "codemirror_mode": {
    "name": "ipython",
    "version": 3
   },
   "file_extension": ".py",
   "mimetype": "text/x-python",
   "name": "python",
   "nbconvert_exporter": "python",
   "pygments_lexer": "ipython3",
   "version": "3.8.8"
  }
 },
 "nbformat": 4,
 "nbformat_minor": 5
}
